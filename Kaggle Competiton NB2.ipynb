{
 "cells": [
  {
   "cell_type": "code",
   "execution_count": 52,
   "id": "6e483a4f",
   "metadata": {},
   "outputs": [],
   "source": [
    "import numpy as np\n",
    "import pandas as pd\n",
    "\n",
    "from sklearn.impute import SimpleImputer\n",
    "\n",
    "from sklearn.preprocessing import StandardScaler\n",
    "from sklearn.preprocessing import MinMaxScaler\n",
    "from sklearn.preprocessing import RobustScaler\n",
    "\n",
    "from collections import Counter\n",
    "from sklearn.datasets import make_classification\n",
    "from sklearn.datasets import make_regression\n",
    "from sklearn.model_selection import train_test_split\n",
    "import pickle\n",
    "import joblib\n",
    "\n",
    "from sklearn import linear_model\n",
    "from sklearn.linear_model import ElasticNet\n",
    "from sklearn.linear_model import Ridge\n",
    "from sklearn.svm import SVR\n",
    "from sklearn.linear_model import SGDRegressor\n",
    "from sklearn.linear_model import LinearRegression\n",
    "from sklearn.datasets import make_regression\n",
    "from sklearn.model_selection import train_test_split\n",
    "import pickle\n",
    "import joblib\n",
    "\n",
    "from sklearn import linear_model\n",
    "from sklearn.linear_model import ElasticNet\n",
    "from sklearn.linear_model import Ridge\n",
    "from sklearn.svm import SVR\n",
    "from sklearn.linear_model import SGDRegressor\n",
    "from sklearn.linear_model import LinearRegression\n",
    "\n",
    "from sklearn.metrics import mean_squared_error"
   ]
  },
  {
   "cell_type": "code",
   "execution_count": 40,
   "id": "8c617fce",
   "metadata": {},
   "outputs": [
    {
     "data": {
      "text/html": [
       "<div>\n",
       "<style scoped>\n",
       "    .dataframe tbody tr th:only-of-type {\n",
       "        vertical-align: middle;\n",
       "    }\n",
       "\n",
       "    .dataframe tbody tr th {\n",
       "        vertical-align: top;\n",
       "    }\n",
       "\n",
       "    .dataframe thead th {\n",
       "        text-align: right;\n",
       "    }\n",
       "</style>\n",
       "<table border=\"1\" class=\"dataframe\">\n",
       "  <thead>\n",
       "    <tr style=\"text-align: right;\">\n",
       "      <th></th>\n",
       "      <th>index_id</th>\n",
       "      <th>cut</th>\n",
       "      <th>color</th>\n",
       "      <th>clarity</th>\n",
       "      <th>depth</th>\n",
       "      <th>carat</th>\n",
       "      <th>table</th>\n",
       "      <th>x</th>\n",
       "      <th>y</th>\n",
       "      <th>z</th>\n",
       "      <th>price</th>\n",
       "      <th>city</th>\n",
       "    </tr>\n",
       "  </thead>\n",
       "  <tbody>\n",
       "    <tr>\n",
       "      <th>0</th>\n",
       "      <td>5feceb66ffc86f38d952786c6d696c79c2dbc239dd4e91...</td>\n",
       "      <td>Premium</td>\n",
       "      <td>J</td>\n",
       "      <td>VS2</td>\n",
       "      <td>62.4</td>\n",
       "      <td>1.21</td>\n",
       "      <td>58.0</td>\n",
       "      <td>6.83</td>\n",
       "      <td>6.79</td>\n",
       "      <td>4.25</td>\n",
       "      <td>4268</td>\n",
       "      <td>Dubai</td>\n",
       "    </tr>\n",
       "    <tr>\n",
       "      <th>1</th>\n",
       "      <td>6b86b273ff34fce19d6b804eff5a3f5747ada4eaa22f1d...</td>\n",
       "      <td>Very Good</td>\n",
       "      <td>H</td>\n",
       "      <td>VS2</td>\n",
       "      <td>63.0</td>\n",
       "      <td>0.32</td>\n",
       "      <td>57.0</td>\n",
       "      <td>4.35</td>\n",
       "      <td>4.38</td>\n",
       "      <td>2.75</td>\n",
       "      <td>505</td>\n",
       "      <td>Kimberly</td>\n",
       "    </tr>\n",
       "    <tr>\n",
       "      <th>2</th>\n",
       "      <td>d4735e3a265e16eee03f59718b9b5d03019c07d8b6c51f...</td>\n",
       "      <td>Fair</td>\n",
       "      <td>G</td>\n",
       "      <td>VS1</td>\n",
       "      <td>65.5</td>\n",
       "      <td>0.71</td>\n",
       "      <td>55.0</td>\n",
       "      <td>5.62</td>\n",
       "      <td>5.53</td>\n",
       "      <td>3.65</td>\n",
       "      <td>2686</td>\n",
       "      <td>Las Vegas</td>\n",
       "    </tr>\n",
       "    <tr>\n",
       "      <th>3</th>\n",
       "      <td>4e07408562bedb8b60ce05c1decfe3ad16b72230967de0...</td>\n",
       "      <td>Good</td>\n",
       "      <td>D</td>\n",
       "      <td>SI1</td>\n",
       "      <td>63.8</td>\n",
       "      <td>0.41</td>\n",
       "      <td>56.0</td>\n",
       "      <td>4.68</td>\n",
       "      <td>4.72</td>\n",
       "      <td>3.00</td>\n",
       "      <td>738</td>\n",
       "      <td>Kimberly</td>\n",
       "    </tr>\n",
       "    <tr>\n",
       "      <th>4</th>\n",
       "      <td>4b227777d4dd1fc61c6f884f48641d02b4d121d3fd328c...</td>\n",
       "      <td>Ideal</td>\n",
       "      <td>G</td>\n",
       "      <td>SI1</td>\n",
       "      <td>60.5</td>\n",
       "      <td>1.02</td>\n",
       "      <td>59.0</td>\n",
       "      <td>6.55</td>\n",
       "      <td>6.51</td>\n",
       "      <td>3.95</td>\n",
       "      <td>4882</td>\n",
       "      <td>Dubai</td>\n",
       "    </tr>\n",
       "    <tr>\n",
       "      <th>...</th>\n",
       "      <td>...</td>\n",
       "      <td>...</td>\n",
       "      <td>...</td>\n",
       "      <td>...</td>\n",
       "      <td>...</td>\n",
       "      <td>...</td>\n",
       "      <td>...</td>\n",
       "      <td>...</td>\n",
       "      <td>...</td>\n",
       "      <td>...</td>\n",
       "      <td>...</td>\n",
       "      <td>...</td>\n",
       "    </tr>\n",
       "    <tr>\n",
       "      <th>40450</th>\n",
       "      <td>f0bc79169405ebeb24e308055156b946ffd819db9b4f75...</td>\n",
       "      <td>Ideal</td>\n",
       "      <td>G</td>\n",
       "      <td>VS1</td>\n",
       "      <td>62.7</td>\n",
       "      <td>1.34</td>\n",
       "      <td>57.0</td>\n",
       "      <td>7.10</td>\n",
       "      <td>7.04</td>\n",
       "      <td>4.43</td>\n",
       "      <td>10070</td>\n",
       "      <td>Antwerp</td>\n",
       "    </tr>\n",
       "    <tr>\n",
       "      <th>40451</th>\n",
       "      <td>339916a23bf22b052b54cb2a9b36ee8418c1c68b46acad...</td>\n",
       "      <td>Good</td>\n",
       "      <td>F</td>\n",
       "      <td>SI2</td>\n",
       "      <td>57.1</td>\n",
       "      <td>2.02</td>\n",
       "      <td>60.0</td>\n",
       "      <td>8.31</td>\n",
       "      <td>8.25</td>\n",
       "      <td>4.73</td>\n",
       "      <td>12615</td>\n",
       "      <td>Madrid</td>\n",
       "    </tr>\n",
       "    <tr>\n",
       "      <th>40452</th>\n",
       "      <td>46957922b99954654c1deb8d854c3f069bf118b2ce9415...</td>\n",
       "      <td>Ideal</td>\n",
       "      <td>H</td>\n",
       "      <td>SI1</td>\n",
       "      <td>62.7</td>\n",
       "      <td>1.01</td>\n",
       "      <td>56.0</td>\n",
       "      <td>6.37</td>\n",
       "      <td>6.42</td>\n",
       "      <td>4.01</td>\n",
       "      <td>5457</td>\n",
       "      <td>Kimberly</td>\n",
       "    </tr>\n",
       "    <tr>\n",
       "      <th>40453</th>\n",
       "      <td>9d733392d362d5c6f1d9b9659b601c7d4b5a1c1c8df579...</td>\n",
       "      <td>Ideal</td>\n",
       "      <td>J</td>\n",
       "      <td>VS1</td>\n",
       "      <td>61.9</td>\n",
       "      <td>0.33</td>\n",
       "      <td>54.3</td>\n",
       "      <td>4.45</td>\n",
       "      <td>4.47</td>\n",
       "      <td>2.76</td>\n",
       "      <td>456</td>\n",
       "      <td>Kimberly</td>\n",
       "    </tr>\n",
       "    <tr>\n",
       "      <th>40454</th>\n",
       "      <td>a02744a70faa594d240b067f21fcc23a8d17cd1098a9fb...</td>\n",
       "      <td>Ideal</td>\n",
       "      <td>I</td>\n",
       "      <td>SI1</td>\n",
       "      <td>62.0</td>\n",
       "      <td>1.24</td>\n",
       "      <td>58.0</td>\n",
       "      <td>6.83</td>\n",
       "      <td>6.88</td>\n",
       "      <td>4.25</td>\n",
       "      <td>6232</td>\n",
       "      <td>London</td>\n",
       "    </tr>\n",
       "  </tbody>\n",
       "</table>\n",
       "<p>40455 rows × 12 columns</p>\n",
       "</div>"
      ],
      "text/plain": [
       "                                                index_id        cut color  \\\n",
       "0      5feceb66ffc86f38d952786c6d696c79c2dbc239dd4e91...    Premium     J   \n",
       "1      6b86b273ff34fce19d6b804eff5a3f5747ada4eaa22f1d...  Very Good     H   \n",
       "2      d4735e3a265e16eee03f59718b9b5d03019c07d8b6c51f...       Fair     G   \n",
       "3      4e07408562bedb8b60ce05c1decfe3ad16b72230967de0...       Good     D   \n",
       "4      4b227777d4dd1fc61c6f884f48641d02b4d121d3fd328c...      Ideal     G   \n",
       "...                                                  ...        ...   ...   \n",
       "40450  f0bc79169405ebeb24e308055156b946ffd819db9b4f75...      Ideal     G   \n",
       "40451  339916a23bf22b052b54cb2a9b36ee8418c1c68b46acad...       Good     F   \n",
       "40452  46957922b99954654c1deb8d854c3f069bf118b2ce9415...      Ideal     H   \n",
       "40453  9d733392d362d5c6f1d9b9659b601c7d4b5a1c1c8df579...      Ideal     J   \n",
       "40454  a02744a70faa594d240b067f21fcc23a8d17cd1098a9fb...      Ideal     I   \n",
       "\n",
       "      clarity  depth  carat  table     x     y     z  price       city  \n",
       "0         VS2   62.4   1.21   58.0  6.83  6.79  4.25   4268      Dubai  \n",
       "1         VS2   63.0   0.32   57.0  4.35  4.38  2.75    505   Kimberly  \n",
       "2         VS1   65.5   0.71   55.0  5.62  5.53  3.65   2686  Las Vegas  \n",
       "3         SI1   63.8   0.41   56.0  4.68  4.72  3.00    738   Kimberly  \n",
       "4         SI1   60.5   1.02   59.0  6.55  6.51  3.95   4882      Dubai  \n",
       "...       ...    ...    ...    ...   ...   ...   ...    ...        ...  \n",
       "40450     VS1   62.7   1.34   57.0  7.10  7.04  4.43  10070    Antwerp  \n",
       "40451     SI2   57.1   2.02   60.0  8.31  8.25  4.73  12615     Madrid  \n",
       "40452     SI1   62.7   1.01   56.0  6.37  6.42  4.01   5457   Kimberly  \n",
       "40453     VS1   61.9   0.33   54.3  4.45  4.47  2.76    456   Kimberly  \n",
       "40454     SI1   62.0   1.24   58.0  6.83  6.88  4.25   6232     London  \n",
       "\n",
       "[40455 rows x 12 columns]"
      ]
     },
     "execution_count": 40,
     "metadata": {},
     "output_type": "execute_result"
    }
   ],
   "source": [
    "diamond_train= pd.read_csv('./pm3_data/diamonds_train.csv')\n",
    "diamond_train"
   ]
  },
  {
   "cell_type": "code",
   "execution_count": 41,
   "id": "4dfe1daa",
   "metadata": {},
   "outputs": [],
   "source": [
    "diamond_train = diamond_train.drop(['city','x','y','z'], axis =1)"
   ]
  },
  {
   "cell_type": "code",
   "execution_count": 49,
   "id": "d5cce078",
   "metadata": {},
   "outputs": [
    {
     "data": {
      "text/html": [
       "<div>\n",
       "<style scoped>\n",
       "    .dataframe tbody tr th:only-of-type {\n",
       "        vertical-align: middle;\n",
       "    }\n",
       "\n",
       "    .dataframe tbody tr th {\n",
       "        vertical-align: top;\n",
       "    }\n",
       "\n",
       "    .dataframe thead th {\n",
       "        text-align: right;\n",
       "    }\n",
       "</style>\n",
       "<table border=\"1\" class=\"dataframe\">\n",
       "  <thead>\n",
       "    <tr style=\"text-align: right;\">\n",
       "      <th></th>\n",
       "      <th>depth</th>\n",
       "      <th>carat</th>\n",
       "      <th>table</th>\n",
       "      <th>price</th>\n",
       "    </tr>\n",
       "  </thead>\n",
       "  <tbody>\n",
       "    <tr>\n",
       "      <th>count</th>\n",
       "      <td>40455.000000</td>\n",
       "      <td>40455.000000</td>\n",
       "      <td>40455.000000</td>\n",
       "      <td>40455.000000</td>\n",
       "    </tr>\n",
       "    <tr>\n",
       "      <th>mean</th>\n",
       "      <td>61.752841</td>\n",
       "      <td>0.797706</td>\n",
       "      <td>57.446133</td>\n",
       "      <td>3928.444469</td>\n",
       "    </tr>\n",
       "    <tr>\n",
       "      <th>std</th>\n",
       "      <td>1.431725</td>\n",
       "      <td>0.475544</td>\n",
       "      <td>2.233535</td>\n",
       "      <td>3992.416147</td>\n",
       "    </tr>\n",
       "    <tr>\n",
       "      <th>min</th>\n",
       "      <td>43.000000</td>\n",
       "      <td>0.200000</td>\n",
       "      <td>43.000000</td>\n",
       "      <td>326.000000</td>\n",
       "    </tr>\n",
       "    <tr>\n",
       "      <th>25%</th>\n",
       "      <td>61.000000</td>\n",
       "      <td>0.400000</td>\n",
       "      <td>56.000000</td>\n",
       "      <td>945.000000</td>\n",
       "    </tr>\n",
       "    <tr>\n",
       "      <th>50%</th>\n",
       "      <td>61.800000</td>\n",
       "      <td>0.700000</td>\n",
       "      <td>57.000000</td>\n",
       "      <td>2397.000000</td>\n",
       "    </tr>\n",
       "    <tr>\n",
       "      <th>75%</th>\n",
       "      <td>62.500000</td>\n",
       "      <td>1.040000</td>\n",
       "      <td>59.000000</td>\n",
       "      <td>5331.000000</td>\n",
       "    </tr>\n",
       "    <tr>\n",
       "      <th>max</th>\n",
       "      <td>79.000000</td>\n",
       "      <td>4.500000</td>\n",
       "      <td>95.000000</td>\n",
       "      <td>18823.000000</td>\n",
       "    </tr>\n",
       "  </tbody>\n",
       "</table>\n",
       "</div>"
      ],
      "text/plain": [
       "              depth         carat         table         price\n",
       "count  40455.000000  40455.000000  40455.000000  40455.000000\n",
       "mean      61.752841      0.797706     57.446133   3928.444469\n",
       "std        1.431725      0.475544      2.233535   3992.416147\n",
       "min       43.000000      0.200000     43.000000    326.000000\n",
       "25%       61.000000      0.400000     56.000000    945.000000\n",
       "50%       61.800000      0.700000     57.000000   2397.000000\n",
       "75%       62.500000      1.040000     59.000000   5331.000000\n",
       "max       79.000000      4.500000     95.000000  18823.000000"
      ]
     },
     "execution_count": 49,
     "metadata": {},
     "output_type": "execute_result"
    }
   ],
   "source": [
    "diamond_train.describe()"
   ]
  },
  {
   "cell_type": "code",
   "execution_count": 42,
   "id": "44656fb4",
   "metadata": {},
   "outputs": [],
   "source": [
    "cat_features = ['cut','color','clarity']\n",
    "dtrain_one_hot_encoding = pd.get_dummies(diamond_train[cat_features], \n",
    "                                          columns=['cut','color','clarity'], \n",
    "                                          drop_first=True)\n",
    "dtrain_one_hot_encoding\n",
    "\n",
    "target = diamond_train['price']"
   ]
  },
  {
   "cell_type": "code",
   "execution_count": 43,
   "id": "4f2d5380",
   "metadata": {},
   "outputs": [
    {
     "data": {
      "text/plain": [
       "Index(['cut_Good', 'cut_Ideal', 'cut_Premium', 'cut_Very Good', 'color_E',\n",
       "       'color_F', 'color_G', 'color_H', 'color_I', 'color_J', 'clarity_IF',\n",
       "       'clarity_SI1', 'clarity_SI2', 'clarity_VS1', 'clarity_VS2',\n",
       "       'clarity_VVS1', 'clarity_VVS2'],\n",
       "      dtype='object')"
      ]
     },
     "execution_count": 43,
     "metadata": {},
     "output_type": "execute_result"
    }
   ],
   "source": [
    "dtrain_one_hot_encoding.columns"
   ]
  },
  {
   "cell_type": "code",
   "execution_count": 44,
   "id": "0f0a7e56",
   "metadata": {},
   "outputs": [
    {
     "data": {
      "text/plain": [
       "array([[-0.3155308 , -0.81809533,  1.7155123 , ...,  1.83697015,\n",
       "        -0.27132638, -0.32193049],\n",
       "       [-0.3155308 , -0.81809533, -0.58291625, ...,  1.83697015,\n",
       "        -0.27132638, -0.32193049],\n",
       "       [-0.3155308 , -0.81809533, -0.58291625, ..., -0.54437466,\n",
       "        -0.27132638, -0.32193049],\n",
       "       ...,\n",
       "       [-0.3155308 ,  1.22235144, -0.58291625, ..., -0.54437466,\n",
       "        -0.27132638, -0.32193049],\n",
       "       [-0.3155308 ,  1.22235144, -0.58291625, ..., -0.54437466,\n",
       "        -0.27132638, -0.32193049],\n",
       "       [-0.3155308 ,  1.22235144, -0.58291625, ..., -0.54437466,\n",
       "        -0.27132638, -0.32193049]])"
      ]
     },
     "execution_count": 44,
     "metadata": {},
     "output_type": "execute_result"
    }
   ],
   "source": [
    "scaler = StandardScaler()\n",
    "scaled_data = scaler.fit_transform(dtrain_one_hot_encoding)\n",
    "scaled_data"
   ]
  },
  {
   "cell_type": "code",
   "execution_count": 45,
   "id": "6e9e6395",
   "metadata": {},
   "outputs": [
    {
     "data": {
      "text/plain": [
       "0         4268\n",
       "1          505\n",
       "2         2686\n",
       "3          738\n",
       "4         4882\n",
       "         ...  \n",
       "40450    10070\n",
       "40451    12615\n",
       "40452     5457\n",
       "40453      456\n",
       "40454     6232\n",
       "Name: price, Length: 40455, dtype: int64"
      ]
     },
     "execution_count": 45,
     "metadata": {},
     "output_type": "execute_result"
    }
   ],
   "source": [
    "target"
   ]
  },
  {
   "cell_type": "code",
   "execution_count": 46,
   "id": "951c34a5",
   "metadata": {},
   "outputs": [],
   "source": [
    "X_train, X_validation, y_train, y_validation = train_test_split(scaled_data, target, random_state = 42, test_size = 0.2)"
   ]
  },
  {
   "cell_type": "code",
   "execution_count": 47,
   "id": "c02306e3",
   "metadata": {},
   "outputs": [
    {
     "data": {
      "text/plain": [
       "LinearRegression()"
      ]
     },
     "execution_count": 47,
     "metadata": {},
     "output_type": "execute_result"
    }
   ],
   "source": [
    "# Se entrena el modelo:\n",
    "\n",
    "model = LinearRegression()\n",
    "model.fit(X = X_train, y = y_train)"
   ]
  },
  {
   "cell_type": "code",
   "execution_count": 48,
   "id": "530d50b3",
   "metadata": {},
   "outputs": [
    {
     "data": {
      "text/plain": [
       "3899.3667352173143"
      ]
     },
     "execution_count": 48,
     "metadata": {},
     "output_type": "execute_result"
    }
   ],
   "source": [
    "# Métrica de error:\n",
    "\n",
    "# Primero se hace predicción del 20%:\n",
    "y_pred = model.predict(X_validation)\n",
    "\n",
    "mean_squared_error(y_validation, y_pred, squared=False)"
   ]
  },
  {
   "cell_type": "code",
   "execution_count": null,
   "id": "48e6ff3e",
   "metadata": {},
   "outputs": [],
   "source": [
    "# Predicción:\n",
    "\n",
    "diamond_test= pd.read_csv('./pm3_data/diamonds_test.csv')\n",
    "\n",
    "cat_features = ['cut', 'color', 'clarity', 'city']\n",
    "dtest_one_hot_encoding = pd.get_dummies(diamond_test[cat_features], \n",
    "                                          columns=['cut', 'color', 'clarity', 'city'], \n",
    "                                          drop_first=True)\n",
    "\n",
    "scaler = RobustScaler()\n",
    "scaled_data_test = scaler.fit_transform(dtest_one_hot_encoding)\n",
    "scaled_data_test\n",
    "\n",
    "\n",
    "y_pred = model.predict(scaled_data_test)"
   ]
  },
  {
   "cell_type": "code",
   "execution_count": 27,
   "id": "f66be29b",
   "metadata": {},
   "outputs": [
    {
     "data": {
      "text/plain": [
       "(13485, 11)"
      ]
     },
     "execution_count": 27,
     "metadata": {},
     "output_type": "execute_result"
    }
   ],
   "source": [
    "diamond_test.shape"
   ]
  },
  {
   "cell_type": "code",
   "execution_count": 28,
   "id": "33236f75",
   "metadata": {},
   "outputs": [],
   "source": [
    "# Submission\n",
    "\n",
    "submission = pd.DataFrame({'id': diamond_test['id'], 'price': y_pred})"
   ]
  },
  {
   "cell_type": "code",
   "execution_count": 29,
   "id": "6ed8bb5e",
   "metadata": {},
   "outputs": [
    {
     "data": {
      "text/html": [
       "<div>\n",
       "<style scoped>\n",
       "    .dataframe tbody tr th:only-of-type {\n",
       "        vertical-align: middle;\n",
       "    }\n",
       "\n",
       "    .dataframe tbody tr th {\n",
       "        vertical-align: top;\n",
       "    }\n",
       "\n",
       "    .dataframe thead th {\n",
       "        text-align: right;\n",
       "    }\n",
       "</style>\n",
       "<table border=\"1\" class=\"dataframe\">\n",
       "  <thead>\n",
       "    <tr style=\"text-align: right;\">\n",
       "      <th></th>\n",
       "      <th>id</th>\n",
       "      <th>price</th>\n",
       "    </tr>\n",
       "  </thead>\n",
       "  <tbody>\n",
       "    <tr>\n",
       "      <th>0</th>\n",
       "      <td>0</td>\n",
       "      <td>3909.134214</td>\n",
       "    </tr>\n",
       "    <tr>\n",
       "      <th>1</th>\n",
       "      <td>1</td>\n",
       "      <td>4770.339451</td>\n",
       "    </tr>\n",
       "    <tr>\n",
       "      <th>2</th>\n",
       "      <td>2</td>\n",
       "      <td>5062.081592</td>\n",
       "    </tr>\n",
       "    <tr>\n",
       "      <th>3</th>\n",
       "      <td>3</td>\n",
       "      <td>3872.222835</td>\n",
       "    </tr>\n",
       "    <tr>\n",
       "      <th>4</th>\n",
       "      <td>4</td>\n",
       "      <td>3652.021145</td>\n",
       "    </tr>\n",
       "  </tbody>\n",
       "</table>\n",
       "</div>"
      ],
      "text/plain": [
       "   id        price\n",
       "0   0  3909.134214\n",
       "1   1  4770.339451\n",
       "2   2  5062.081592\n",
       "3   3  3872.222835\n",
       "4   4  3652.021145"
      ]
     },
     "execution_count": 29,
     "metadata": {},
     "output_type": "execute_result"
    }
   ],
   "source": [
    "submission.head()"
   ]
  },
  {
   "cell_type": "code",
   "execution_count": 37,
   "id": "259c31ec",
   "metadata": {},
   "outputs": [],
   "source": [
    "submission.to_csv ('./pm3_data/submission1.csv', index=False)"
   ]
  },
  {
   "cell_type": "code",
   "execution_count": null,
   "id": "938b14e1",
   "metadata": {},
   "outputs": [],
   "source": []
  }
 ],
 "metadata": {
  "kernelspec": {
   "display_name": "Python [conda env:sklearn-env]",
   "language": "python",
   "name": "conda-env-sklearn-env-py"
  },
  "language_info": {
   "codemirror_mode": {
    "name": "ipython",
    "version": 3
   },
   "file_extension": ".py",
   "mimetype": "text/x-python",
   "name": "python",
   "nbconvert_exporter": "python",
   "pygments_lexer": "ipython3",
   "version": "3.10.4"
  }
 },
 "nbformat": 4,
 "nbformat_minor": 5
}
